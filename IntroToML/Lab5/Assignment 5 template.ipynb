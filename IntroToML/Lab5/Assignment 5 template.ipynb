{
 "cells": [
  {
   "cell_type": "code",
   "execution_count": 440,
   "metadata": {},
   "outputs": [],
   "source": [
    "%matplotlib inline\n",
    "from sklearn import svm\n",
    "from sklearn.model_selection import train_test_split\n",
    "from sklearn.naive_bayes import GaussianNB\n",
    "from sklearn.neighbors import KNeighborsClassifier\n",
    "import numpy as np\n",
    "import matplotlib.pyplot as plt\n",
    "from scipy.io import loadmat\n",
    "import math"
   ]
  },
  {
   "cell_type": "markdown",
   "metadata": {},
   "source": [
    "## Read the Dataset"
   ]
  },
  {
   "cell_type": "code",
   "execution_count": 441,
   "metadata": {},
   "outputs": [],
   "source": [
    "N = 51\n",
    "data = loadmat('ex6data1.mat')\n",
    "x = data['X']\n",
    "y = data['y']\n",
    "# print(type(y))\n",
    "color = []\n",
    "colors = y.ravel()\n",
    "\n",
    "def setColor(mylist, colorlist):\n",
    "    for i in mylist:\n",
    "        if i==0:\n",
    "            colorlist.append('r')\n",
    "        else: \n",
    "            colorlist.append('b')\n",
    "\n",
    "setColor(colors, color)\n",
    "# data\n",
    "# y"
   ]
  },
  {
   "cell_type": "markdown",
   "metadata": {},
   "source": [
    "# Split dataset for train and test"
   ]
  },
  {
   "cell_type": "code",
   "execution_count": 442,
   "metadata": {},
   "outputs": [],
   "source": [
    "X_train, X_test, y_train, y_test = train_test_split(x, y, test_size = 0.3, random_state=123)\n",
    "clf = svm.SVC(kernel='linear')\n",
    "clf.fit(X_train, np.ravel(y_train))\n",
    "y_true, y_pred = y_test, clf.predict(X_test)"
   ]
  },
  {
   "cell_type": "markdown",
   "metadata": {},
   "source": [
    "## Plot the data"
   ]
  },
  {
   "cell_type": "code",
   "execution_count": 443,
   "metadata": {},
   "outputs": [
    {
     "data": {
      "image/png": "[encoded data removed]",
      "text/plain": [
       "<Figure size 432x288 with 1 Axes>"
      ]
     },
     "metadata": {},
     "output_type": "display_data"
    }
   ],
   "source": [
    "test = [1, 3]\n",
    "\n",
    "def plotData(X):\n",
    "    dx, dy = X.T\n",
    "    plt.scatter(dx, dy, c=color)\n",
    "    plt.scatter(test[0], test[1], c='black')\n",
    "plotData(x)"
   ]
  },
  {
   "cell_type": "markdown",
   "metadata": {},
   "source": [
    "#### Create and Visualize kNN"
   ]
  },
  {
   "cell_type": "code",
   "execution_count": 451,
   "metadata": {},
   "outputs": [
    {
     "name": "stdout",
     "output_type": "stream",
     "text": [
      "4 nearest neighbours: [array([0.9044, 3.0198]), array([1.1693, 2.9276]), array([0.8122, 2.9992]), array([1.25  , 3.1937])]\n"
     ]
    },
    {
     "data": {
      "image/png": "[encoded data removed]",
      "text/plain": [
       "<Figure size 432x288 with 1 Axes>"
      ]
     },
     "metadata": {},
     "output_type": "display_data"
    }
   ],
   "source": [
    "def getDistance(var1, var2):\n",
    "    return math.sqrt((var1[0] - var2[0])**2 + (var1[1] - var2[1])**2)\n",
    "\n",
    "# print(getDistance(X_test[1],X_test[2]))\n",
    "\n",
    "def getNeighbors(someSet, testInstance, k):\n",
    "    distances = []\n",
    "    length = len(testInstance)-1\n",
    "    for x in range(len(someSet)):\n",
    "        dist = getDistance(testInstance, someSet[x])\n",
    "        distances.append((someSet[x], dist))\n",
    "    distances.sort(key=lambda x: x[1])\n",
    "    neighbors = []\n",
    "    for x in range(k):\n",
    "#         print(distances[x][0])\n",
    "        neighbors.append(distances[x][0])\n",
    "    return neighbors\n",
    "\n",
    "k = 4\n",
    "neighbors = getNeighbors(X, test, k)\n",
    "print(k, \"nearest neighbours:\", neighbors)\n",
    "\n",
    "def showNeighbors(neighbors, test):\n",
    "    xs = [x[0] for x in neighbors]\n",
    "    ys = [x[1] for x in neighbors]\n",
    "    plt.scatter(xs, ys, c='red')\n",
    "    plt.scatter(test[0],test[1], c='black')\n",
    "\n",
    "showNeighbors(neighbors, test)"
   ]
  },
  {
   "cell_type": "markdown",
   "metadata": {},
   "source": [
    "## Compute accuracy"
   ]
  },
  {
   "cell_type": "code",
   "execution_count": 445,
   "metadata": {},
   "outputs": [
    {
     "name": "stdout",
     "output_type": "stream",
     "text": [
      "Accuracy is about 100.0 %\n"
     ]
    }
   ],
   "source": [
    "def accuracy_score(y_true, y_pred):\n",
    "    samecounter = 0\n",
    "    arraysize = y_pred.size\n",
    "    for i in range(arraysize):\n",
    "        if(y_pred[i] == y_true[i]):\n",
    "            samecounter += 1    \n",
    "    print(\"Accuracy is about\", (samecounter/arraysize)*100, \"%\")\n",
    "\n",
    "accuracy_score(y_true, y_pred)"
   ]
  },
  {
   "cell_type": "markdown",
   "metadata": {},
   "source": [
    "## Create LinearSVC and train your data"
   ]
  },
  {
   "cell_type": "code",
   "execution_count": 446,
   "metadata": {},
   "outputs": [],
   "source": [
    "clf = svm.SVC(kernel='linear')\n",
    "clf.fit(X_train, np.ravel(y_train))\n",
    "\n",
    "yTrue, pred = y_test, clf.predict(x_test)"
   ]
  },
  {
   "cell_type": "markdown",
   "metadata": {},
   "source": [
    "## Compute accuracy"
   ]
  },
  {
   "cell_type": "code",
   "execution_count": 447,
   "metadata": {},
   "outputs": [
    {
     "name": "stdout",
     "output_type": "stream",
     "text": [
      "Accuracy is about 100.0 %\n"
     ]
    }
   ],
   "source": [
    "accuracy_score(yTrue, pred)"
   ]
  },
  {
   "cell_type": "markdown",
   "metadata": {},
   "source": [
    "## Visualize the Decision Boundary"
   ]
  },
  {
   "cell_type": "code",
   "execution_count": 448,
   "metadata": {},
   "outputs": [
    {
     "data": {
      "image/png": "[encoded data removed]",
      "text/plain": [
       "<Figure size 432x288 with 1 Axes>"
      ]
     },
     "metadata": {},
     "output_type": "display_data"
    }
   ],
   "source": [
    "x_min, x_max = X[:, 0].min() - .5, X[:, 0].max() + .5\n",
    "y_min, y_max = X[:, 1].min() - .5, X[:, 1].max() + .5\n",
    "    \n",
    "xx, yy = np.meshgrid(np.arange(x_min, x_max, h), np.arange(y_min, y_max, h))\n",
    "\n",
    "Z = clf.predict(np.c_[xx.ravel(), yy.ravel()])\n",
    "Z = Z.reshape(xx.shape)\n",
    "\n",
    "color.clear()\n",
    "colors = y_train.ravel()\n",
    "\n",
    "setColor(colors, color)\n",
    "\n",
    "plt.contourf(xx, yy, Z, cmap=plt.cm.RdBu, alpha=0.9)\n",
    "plt.scatter(X_train[:, 0], X_train[:, 1], c=color, edgecolor='black')\n",
    "plt.show()"
   ]
  },
  {
   "cell_type": "code",
   "execution_count": null,
   "metadata": {},
   "outputs": [],
   "source": []
  }
 ],
 "metadata": {
  "kernelspec": {
   "display_name": "Python 3",
   "language": "python",
   "name": "python3"
  },
  "language_info": {
   "codemirror_mode": {
    "name": "ipython",
    "version": 3
   },
   "file_extension": ".py",
   "mimetype": "text/x-python",
   "name": "python",
   "nbconvert_exporter": "python",
   "pygments_lexer": "ipython3",
   "version": "3.6.5"
  }
 },
 "nbformat": 4,
 "nbformat_minor": 2
}
