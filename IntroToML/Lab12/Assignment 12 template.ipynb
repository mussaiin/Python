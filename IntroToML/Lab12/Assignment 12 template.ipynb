{
 "cells": [
  {
   "cell_type": "markdown",
   "metadata": {},
   "source": [
    "Import the libraries"
   ]
  },
  {
   "cell_type": "code",
   "execution_count": 59,
   "metadata": {},
   "outputs": [],
   "source": [
    "import scipy.io as s\n",
    "import numpy as np\n",
    "import matplotlib.pyplot as plt\n",
    "import pandas as pd\n",
    "import math\n",
    "from scipy.stats import norm\n",
    "from scipy.io import loadmat\n",
    "from sklearn.model_selection import train_test_split\n",
    "from sklearn.metrics import f1_score"
   ]
  },
  {
   "cell_type": "markdown",
   "metadata": {},
   "source": [
    "Read the data"
   ]
  },
  {
   "cell_type": "code",
   "execution_count": 70,
   "metadata": {},
   "outputs": [],
   "source": [
    "data = loadmat(\"data.mat\")\n",
    "xVal = data['X']\n",
    "x = data['Xval']\n",
    "y = data['yval']"
   ]
  },
  {
   "cell_type": "code",
   "execution_count": 77,
   "metadata": {},
   "outputs": [
    {
     "data": {
      "image/png": "[encoded data removed]",
      "text/plain": [
       "<Figure size 432x288 with 1 Axes>"
      ]
     },
     "metadata": {},
     "output_type": "display_data"
    }
   ],
   "source": [
    "color = []\n",
    "colors = anom\n",
    "\n",
    "def setColor(mylist, colorlist):\n",
    "    for i in mylist:\n",
    "        if i==0:\n",
    "            colorlist.append('r')\n",
    "        else: \n",
    "            colorlist.append('b')\n",
    "\n",
    "setColor(colors, color)\n",
    "\n",
    "def plotData(X):\n",
    "    dx, dy = X.T\n",
    "    plt.grid()\n",
    "    plt.scatter(dx, dy, color=color)\n",
    "plotData(x)"
   ]
  },
  {
   "cell_type": "markdown",
   "metadata": {},
   "source": [
    "Plot the data"
   ]
  },
  {
   "cell_type": "markdown",
   "metadata": {},
   "source": [
    "Find outliers and color them in red. You need to choose your own epsilon"
   ]
  },
  {
   "cell_type": "code",
   "execution_count": 80,
   "metadata": {},
   "outputs": [],
   "source": [
    "mean = lambda x : sum(x) / len(x)\n",
    "def standard(x):\n",
    "    std = 0\n",
    "    for i in x:\n",
    "        std += ((i - mean(x))**2)/len(x)\n",
    "    return std\n",
    "\n",
    "def p(i, mean, std):\n",
    "    prob = (1/math.sqrt(2*math.pi)*std)*(np.exp((-(i-mean)**2)/2*std))\n",
    "    return prob\n",
    "\n",
    "eps = 0.000001\n",
    "anom = []\n",
    "for i,j in zip(x[:, 0], x[:, 1]):\n",
    "    mean1 = mean(x[:, 0])\n",
    "    mean2 = mean(x[:, 1])\n",
    "    std1 = standard(x[:, 0])\n",
    "    std2 = standard(x[:, 1])\n",
    "    prob = p(i, mean1, std1) * p(j, mean2, std2)\n",
    "    if prob < eps:\n",
    "        anom.append(1)\n",
    "    else:\n",
    "        anom.append(0)"
   ]
  },
  {
   "cell_type": "code",
   "execution_count": 79,
   "metadata": {},
   "outputs": [
    {
     "data": {
      "text/plain": [
       "0.823529411764706"
      ]
     },
     "execution_count": 79,
     "metadata": {},
     "output_type": "execute_result"
    }
   ],
   "source": [
    "f1_score(y, anom)"
   ]
  }
 ],
 "metadata": {
  "kernelspec": {
   "display_name": "Python 3",
   "language": "python",
   "name": "python3"
  },
  "language_info": {
   "codemirror_mode": {
    "name": "ipython",
    "version": 3
   },
   "file_extension": ".py",
   "mimetype": "text/x-python",
   "name": "python",
   "nbconvert_exporter": "python",
   "pygments_lexer": "ipython3",
   "version": "3.6.5"
  }
 },
 "nbformat": 4,
 "nbformat_minor": 2
}
