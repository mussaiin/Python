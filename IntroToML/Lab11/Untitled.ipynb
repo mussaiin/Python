{
 "cells": [
  {
   "cell_type": "code",
   "execution_count": 14,
   "metadata": {},
   "outputs": [],
   "source": [
    "import numpy as np\n",
    "import pandas as pd\n",
    "from math import sqrt"
   ]
  },
  {
   "cell_type": "code",
   "execution_count": 15,
   "metadata": {},
   "outputs": [],
   "source": [
    "critics={'Lisa Rose': {'Lady in the Water': 2.5, 'Snakes on a Plane': 3.5,\n",
    "        'Just My Luck': 3.0, 'Superman Returns': 3.5, 'You, Me and Dupree': 2.5,\n",
    "        'The Night Listener': 3.0},\n",
    "         \n",
    "        'Gene Seymour': {'Lady in the Water': 3.0, 'Snakes on a Plane': 3.5,\n",
    "        'Just My Luck': 1.5, 'Superman Returns': 5.0, 'The Night Listener': 3.0,\n",
    "        'You, Me and Dupree': 3.5},\n",
    "         \n",
    "        'Michael Phillips': {'Lady in the Water': 2.5, 'Snakes on a Plane': 3.0,\n",
    "        'Superman Returns': 3.5, 'The Night Listener': 4.0},\n",
    "         \n",
    "        'Claudia Puig': {'Snakes on a Plane': 3.5, 'Just My Luck': 3.0,\n",
    "        'The Night Listener': 4.5, 'Superman Returns': 4.0,\n",
    "        'You, Me and Dupree': 2.5},\n",
    "         \n",
    "        'Mick LaSalle': {'Lady in the Water': 3.0, 'Snakes on a Plane': 4.0,\n",
    "        'Just My Luck': 2.0, 'Superman Returns': 3.0, 'The Night Listener': 3.0,\n",
    "        'You, Me and Dupree': 2.0},\n",
    "         \n",
    "        'Jack Matthews': {'Lady in the Water': 3.0, 'Snakes on a Plane': 4.0,\n",
    "        'The Night Listener': 3.0, 'Superman Returns': 5.0, 'You, Me and Dupree': 3.5},\n",
    "\n",
    "         'Toby': {'Snakes on a Plane':4.5,'You, Me and Dupree':1.0,'Superman Returns':4.0}}"
   ]
  },
  {
   "cell_type": "code",
   "execution_count": 40,
   "metadata": {},
   "outputs": [],
   "source": [
    "def distance(prefs, person1, person2):\n",
    "    si = {}\n",
    "    for item in prefs[person1]:\n",
    "        if item in prefs[person2]:\n",
    "            si[item] = 1\n",
    "\n",
    "    if len(si) == 0: \n",
    "        return 0\n",
    "\n",
    "    sum_of_squares = sum([pow(prefs[person1][item] - prefs[person2][item], 2)\n",
    "    for item in prefs[person1] if item in prefs[person2]])\n",
    "    return 1 / (1 + sum_of_squares)"
   ]
  },
  {
   "cell_type": "code",
   "execution_count": 59,
   "metadata": {},
   "outputs": [],
   "source": [
    "def pearson(prefs, p1, p2):\n",
    "    si={}\n",
    "    for item in prefs[p1]:\n",
    "        if item in prefs[p2]:\n",
    "            si[item] = 1\n",
    "\n",
    "    n = len(si)\n",
    "\n",
    "    if n == 0: return 0\n",
    "\n",
    "    sum1 = sum([prefs[p1][it] for it in si])\n",
    "    sum2 = sum([prefs[p2][it] for it in si])\n",
    "\n",
    "    sum1Sq = sum([pow(prefs[p1][it], 2) for it in si])\n",
    "    sum2Sq = sum([pow(prefs[p2][it], 2) for it in si])\n",
    "\n",
    "    pSum = sum([prefs[p1][it]*prefs[p2][it] for it in si])\n",
    "\n",
    "    num = pSum - (sum1 * sum2 / n)\n",
    "    den = sqrt((sum1Sq - pow(sum1, 2) / n) * (sum2Sq - pow(sum2, 2) / n))\n",
    "    if den == 0: return 0\n",
    "    r = num / den\n",
    "    return r"
   ]
  },
  {
   "cell_type": "code",
   "execution_count": 60,
   "metadata": {
    "scrolled": true
   },
   "outputs": [
    {
     "name": "stdout",
     "output_type": "stream",
     "text": [
      "0.11764705882352941 Euclidian\n",
      "0.66284898035987 Pearson\n"
     ]
    }
   ],
   "source": [
    "print(distance(critics, 'Toby','Jack Matthews'), \"Euclidian\")\n",
    "\n",
    "print(pearson(critics, 'Toby', 'Jack Matthews'), \"Pearson\")"
   ]
  },
  {
   "cell_type": "code",
   "execution_count": 76,
   "metadata": {},
   "outputs": [],
   "source": [
    "def topMatches(prefs, person, n):\n",
    "    scores=[(pearson(prefs, person, other), other) for other in prefs if other!=person]\n",
    "    scores.sort()\n",
    "    scores.reverse()\n",
    "    return scores"
   ]
  },
  {
   "cell_type": "code",
   "execution_count": 77,
   "metadata": {},
   "outputs": [
    {
     "name": "stdout",
     "output_type": "stream",
     "text": [
      "topMatches: \n",
      " [(0.9912407071619299, 'Toby'), (0.7470178808339965, 'Jack Matthews'), (0.5940885257860044, 'Mick LaSalle'), (0.5669467095138396, 'Claudia Puig'), (0.40451991747794525, 'Michael Phillips'), (0.39605901719066977, 'Gene Seymour')]\n"
     ]
    }
   ],
   "source": [
    "print(\"topMatches: \\n\", topMatches(critics, 'Lisa Rose', n=5))"
   ]
  },
  {
   "cell_type": "code",
   "execution_count": 89,
   "metadata": {},
   "outputs": [
    {
     "name": "stdout",
     "output_type": "stream",
     "text": [
      "Lisa Rose : [(0.9912407071619299, 'Toby'), (0.7470178808339965, 'Jack Matthews'), (0.5940885257860044, 'Mick LaSalle'), (0.5669467095138396, 'Claudia Puig'), (0.40451991747794525, 'Michael Phillips'), (0.39605901719066977, 'Gene Seymour')] \n",
      "\n",
      "Gene Seymour : [(0.963795681875635, 'Jack Matthews'), (0.41176470588235276, 'Mick LaSalle'), (0.39605901719066977, 'Lisa Rose'), (0.38124642583151164, 'Toby'), (0.31497039417435607, 'Claudia Puig'), (0.20459830184114206, 'Michael Phillips')] \n",
      "\n",
      "Michael Phillips : [(1.0, 'Claudia Puig'), (0.40451991747794525, 'Lisa Rose'), (0.20459830184114206, 'Gene Seymour'), (0.13483997249264842, 'Jack Matthews'), (-0.2581988897471611, 'Mick LaSalle'), (-1.0, 'Toby')] \n",
      "\n",
      "Claudia Puig : [(1.0, 'Michael Phillips'), (0.8934051474415647, 'Toby'), (0.5669467095138411, 'Mick LaSalle'), (0.5669467095138396, 'Lisa Rose'), (0.31497039417435607, 'Gene Seymour'), (0.02857142857142857, 'Jack Matthews')] \n",
      "\n",
      "Mick LaSalle : [(0.9244734516419049, 'Toby'), (0.5940885257860044, 'Lisa Rose'), (0.5669467095138411, 'Claudia Puig'), (0.41176470588235276, 'Gene Seymour'), (0.21128856368212925, 'Jack Matthews'), (-0.2581988897471611, 'Michael Phillips')] \n",
      "\n",
      "Jack Matthews : [(0.963795681875635, 'Gene Seymour'), (0.7470178808339965, 'Lisa Rose'), (0.66284898035987, 'Toby'), (0.21128856368212925, 'Mick LaSalle'), (0.13483997249264842, 'Michael Phillips'), (0.02857142857142857, 'Claudia Puig')] \n",
      "\n",
      "Toby : [(0.9912407071619299, 'Lisa Rose'), (0.9244734516419049, 'Mick LaSalle'), (0.8934051474415647, 'Claudia Puig'), (0.66284898035987, 'Jack Matthews'), (0.38124642583151164, 'Gene Seymour'), (-1.0, 'Michael Phillips')] \n",
      "\n"
     ]
    }
   ],
   "source": [
    "def top():\n",
    "    for i in critics:\n",
    "        print(i, \":\", topMatches(critics, i, n=len(critics)), \"\\n\")\n",
    "top()"
   ]
  },
  {
   "cell_type": "code",
   "execution_count": 80,
   "metadata": {},
   "outputs": [],
   "source": [
    "def tanimoto(prefs, p1, p2):\n",
    "    a = len(prefs[p1])\n",
    "    b = len(prefs[p2])\n",
    "    c = 0.0\n",
    "    \n",
    "    for film in prefs[p1]:\n",
    "        if prefs[p1][film] == prefs[p2][film]:\n",
    "            c+=1;\n",
    "    \n",
    "    return (c / (a + b - c))"
   ]
  },
  {
   "cell_type": "code",
   "execution_count": 81,
   "metadata": {},
   "outputs": [
    {
     "data": {
      "text/plain": [
       "0.2"
      ]
     },
     "execution_count": 81,
     "metadata": {},
     "output_type": "execute_result"
    }
   ],
   "source": [
    "tanimoto(critics, 'Gene Seymour', 'Lisa Rose')"
   ]
  },
  {
   "cell_type": "code",
   "execution_count": null,
   "metadata": {},
   "outputs": [],
   "source": []
  }
 ],
 "metadata": {
  "kernelspec": {
   "display_name": "Python 3",
   "language": "python",
   "name": "python3"
  },
  "language_info": {
   "codemirror_mode": {
    "name": "ipython",
    "version": 3
   },
   "file_extension": ".py",
   "mimetype": "text/x-python",
   "name": "python",
   "nbconvert_exporter": "python",
   "pygments_lexer": "ipython3",
   "version": "3.6.5"
  }
 },
 "nbformat": 4,
 "nbformat_minor": 2
}
