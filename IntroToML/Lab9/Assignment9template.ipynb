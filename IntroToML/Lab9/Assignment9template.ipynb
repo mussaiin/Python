{
 "cells": [
  {
   "cell_type": "code",
   "execution_count": 2,
   "metadata": {},
   "outputs": [],
   "source": [
    "import numpy as np\n",
    "import matplotlib.pyplot as plt\n",
    "from scipy.io import loadmat\n",
    "from sklearn.preprocessing import StandardScaler"
   ]
  },
  {
   "cell_type": "markdown",
   "metadata": {},
   "source": [
    "#### Load data"
   ]
  },
  {
   "cell_type": "code",
   "execution_count": 3,
   "metadata": {},
   "outputs": [],
   "source": [
    "data = loadmat('ex7data1.mat')\n",
    "X = data['X']\n",
    "X_std = StandardScaler().fit_transform(X)"
   ]
  },
  {
   "cell_type": "markdown",
   "metadata": {},
   "source": [
    "#### Plot data"
   ]
  },
  {
   "cell_type": "code",
   "execution_count": 4,
   "metadata": {},
   "outputs": [
    {
     "data": {
      "image/png": "[encoded data removed]",
      "text/plain": [
       "<Figure size 432x288 with 1 Axes>"
      ]
     },
     "metadata": {},
     "output_type": "display_data"
    }
   ],
   "source": [
    "def plotData(X):\n",
    "    dx, dy = X.T\n",
    "    plt.scatter(dx, dy)\n",
    "plotData(X)"
   ]
  },
  {
   "cell_type": "code",
   "execution_count": 162,
   "metadata": {},
   "outputs": [
    {
     "name": "stdout",
     "output_type": "stream",
     "text": [
      "[-1.17683641e-16  1.12354570e-15]\n",
      "Eigenvecs:\n",
      " [[ 0.70710678 -0.70710678]\n",
      " [ 0.70710678  0.70710678]]\n",
      "Eigenvals:\n",
      " [1.77094936 0.26986696]\n"
     ]
    }
   ],
   "source": [
    "mean_vec = np.mean(X_std, axis=0)\n",
    "cov_mat = (X_std - mean_vec).T.dot((X_std - mean_vec)) / (X_std.shape[0]-1)\n",
    "# cov_mat = np.cov(X.T)\n",
    "eig_vals, eig_vecs = np.linalg.eig(cov_mat)\n",
    "print(mean_vec)\n",
    "print(\"Eigenvecs:\\n\", eig_vecs)\n",
    "print(\"Eigenvals:\\n\", eig_vals)"
   ]
  },
  {
   "cell_type": "markdown",
   "metadata": {},
   "source": [
    "### Write your own PCA algorithm"
   ]
  },
  {
   "cell_type": "markdown",
   "metadata": {},
   "source": [
    "If you are importing the PCA from sklearn, you get only 50%"
   ]
  },
  {
   "cell_type": "code",
   "execution_count": 163,
   "metadata": {},
   "outputs": [
    {
     "name": "stdout",
     "output_type": "stream",
     "text": [
      "[-1.17683641e-16  1.12354570e-15] [ 0.70710678 -0.70710678]\n",
      "[-1.17683641e-16  1.12354570e-15] [ 0.70710678 -0.70710678] \n",
      "\n",
      "[-1.17683641e-16  1.12354570e-15] [0.70710678 0.70710678]\n",
      "[-1.17683641e-16  1.12354570e-15] [0.70710678 0.70710678] \n",
      "\n"
     ]
    },
    {
     "data": {
      "image/png": "[encoded data removed]",
      "text/plain": [
       "<Figure size 432x288 with 1 Axes>"
      ]
     },
     "metadata": {},
     "output_type": "display_data"
    }
   ],
   "source": [
    "for axis in eig_vecs:\n",
    "    start, end = mean_vec, (mean_vec + axis)\n",
    "    print(mean_vec, axis)\n",
    "    print(start, end,'\\n')\n",
    "    plt.annotate('', xy=end, xytext=start, arrowprops=dict(width=1))\n",
    "plt.scatter(X_std[:, 0], X_std[:, 1])\n",
    "plt.show()"
   ]
  },
  {
   "cell_type": "code",
   "execution_count": null,
   "metadata": {},
   "outputs": [],
   "source": []
  }
 ],
 "metadata": {
  "kernelspec": {
   "display_name": "Python 3",
   "language": "python",
   "name": "python3"
  },
  "language_info": {
   "codemirror_mode": {
    "name": "ipython",
    "version": 3
   },
   "file_extension": ".py",
   "mimetype": "text/x-python",
   "name": "python",
   "nbconvert_exporter": "python",
   "pygments_lexer": "ipython3",
   "version": "3.6.5"
  }
 },
 "nbformat": 4,
 "nbformat_minor": 1
}
