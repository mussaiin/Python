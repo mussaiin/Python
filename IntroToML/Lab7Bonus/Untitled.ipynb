{
 "cells": [
  {
   "cell_type": "code",
   "execution_count": 216,
   "metadata": {},
   "outputs": [],
   "source": [
    "import numpy as np\n",
    "import pandas as pd\n",
    "from sklearn.metrics import accuracy_score\n",
    "from sklearn.ensemble import DecisionTreeClassifier\n",
    "from sklearn.model_selection import train_test_split"
   ]
  },
  {
   "cell_type": "code",
   "execution_count": 217,
   "metadata": {},
   "outputs": [],
   "source": [
    "data = pd.read_csv('winequality-white.csv', delimiter=';')\n",
    "wines = data.values\n",
    "x, y = wines[:, :-1], wines[:, -1]\n",
    "# x\n",
    "# y\n",
    "# x"
   ]
  },
  {
   "cell_type": "code",
   "execution_count": 223,
   "metadata": {},
   "outputs": [
    {
     "name": "stdout",
     "output_type": "stream",
     "text": [
      "Accuracy is about 51.10851808634772 %\n"
     ]
    }
   ],
   "source": [
    "xTest, xTrain, yTest, yTrain = train_test_split(x, y, test_size = 0.3, random_state=123)\n",
    "\n",
    "clf = DecisionTreeClassifier(random_state=123)\n",
    "clf = clf.fit(xTrain, yTrain)\n",
    "yPred = clf.predict(xTest)\n",
    "\n",
    "print('Accuracy is about', accuracy_score(yPred, yTest)*100,'%')"
   ]
  },
  {
   "cell_type": "code",
   "execution_count": null,
   "metadata": {},
   "outputs": [],
   "source": []
  }
 ],
 "metadata": {
  "kernelspec": {
   "display_name": "Python 3",
   "language": "python",
   "name": "python3"
  },
  "language_info": {
   "codemirror_mode": {
    "name": "ipython",
    "version": 3
   },
   "file_extension": ".py",
   "mimetype": "text/x-python",
   "name": "python",
   "nbconvert_exporter": "python",
   "pygments_lexer": "ipython3",
   "version": "3.6.5"
  }
 },
 "nbformat": 4,
 "nbformat_minor": 2
}
