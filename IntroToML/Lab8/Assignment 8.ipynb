{
 "cells": [
  {
   "cell_type": "markdown",
   "metadata": {},
   "source": [
    "### Before importing you need to install pygmaps library"
   ]
  },
  {
   "cell_type": "code",
   "execution_count": 40,
   "metadata": {},
   "outputs": [],
   "source": [
    "from time import sleep\n",
    "import numpy as np\n",
    "import pandas as pd\n",
    "import geopy\n",
    "from geopy.geocoders import Nominatim\n",
    "from sklearn.cluster import KMeans\n",
    "import pygmaps"
   ]
  },
  {
   "cell_type": "markdown",
   "metadata": {},
   "source": [
    "### Here is the function that returns the lattitude and longitude"
   ]
  },
  {
   "cell_type": "code",
   "execution_count": 41,
   "metadata": {},
   "outputs": [],
   "source": [
    "def geoGrab(address):\n",
    "    geolocator = Nominatim(timeout=None, user_agent=\"my-application\")\n",
    "    location = geolocator.geocode(address)\n",
    "    if location is not None:\n",
    "        loc = {}\n",
    "        loc['latitude'] = location.latitude\n",
    "        loc['longitude'] = location.longitude\n",
    "        return loc\n",
    "    else:\n",
    "        return None"
   ]
  },
  {
   "cell_type": "markdown",
   "metadata": {},
   "source": [
    "### Fill out this function placeFind()"
   ]
  },
  {
   "cell_type": "code",
   "execution_count": 90,
   "metadata": {},
   "outputs": [
    {
     "name": "stdout",
     "output_type": "stream",
     "text": [
      "Error\n",
      "Error\n",
      "Error\n"
     ]
    }
   ],
   "source": [
    "def placeFind(fileName):\n",
    "    fw = open('places.txt', 'w')\n",
    "    for line in open(fileName).readlines():\n",
    "        place = line.split('\\t')\n",
    "        coord = geoGrab(place[1])\n",
    "        if type(coord) is dict:\n",
    "            fw.write(str(coord[\"latitude\"]) + \" \" + str(coord[\"longitude\"]) + \"\\n\")\n",
    "        else:\n",
    "            print(\"Error\")\n",
    "        sleep(2)\n",
    "    fw.close()\n",
    "\n",
    "placeFind('almatyPlaces.txt')"
   ]
  },
  {
   "cell_type": "code",
   "execution_count": 94,
   "metadata": {},
   "outputs": [],
   "source": [
    "colors=[\"#FF0000\", \"#00FF00\", \"#0000FF\"]\n",
    "mymap = pygmaps.pygmaps(43.238949, 76.889709, 15) \n",
    "for line in open('places.txt').readlines():\n",
    "    loc = line.split()\n",
    "    mymap.addpoint(float(loc[0]), float(loc[1]), \"#FF0000\")\n",
    "    \n",
    "mymap.draw('googlemap.html') "
   ]
  },
  {
   "cell_type": "markdown",
   "metadata": {},
   "source": [
    "\n",
    "\n",
    "### Write your own function k-means:"
   ]
  },
  {
   "cell_type": "code",
   "execution_count": 95,
   "metadata": {},
   "outputs": [],
   "source": [
    "def clusterPlaces(numClust):\n",
    "    array = []\n",
    "    for line in open('places.txt').readlines():\n",
    "        loc = line.split()\n",
    "        array.append([float(loc[0]), float(loc[1])])\n",
    "    x = np.array(array)\n",
    "    kmeans = KMeans(n_clusters = numClust, random_state=0).fit(x)\n",
    "    pred = kmeans.predict(x)\n",
    "    return pred\n",
    "    \n",
    "predictions = clusterPlaces(3)\n",
    "\n",
    "file = open('places.txt').readlines()\n",
    "\n",
    "for i in range(len(file)):\n",
    "    arr = file[i].split()\n",
    "    mymap.addpoint(float(arr[0]), float(arr[1]), colors[predictions[i]])\n",
    "    \n",
    "mymap.draw('googlemap.html') "
   ]
  },
  {
   "cell_type": "markdown",
   "metadata": {},
   "source": [
    "At the end you need to obtain html file with points on the maps"
   ]
  }
 ],
 "metadata": {
  "kernelspec": {
   "display_name": "Python 3",
   "language": "python",
   "name": "python3"
  },
  "language_info": {
   "codemirror_mode": {
    "name": "ipython",
    "version": 3
   },
   "file_extension": ".py",
   "mimetype": "text/x-python",
   "name": "python",
   "nbconvert_exporter": "python",
   "pygments_lexer": "ipython3",
   "version": "3.6.5"
  }
 },
 "nbformat": 4,
 "nbformat_minor": 2
}
