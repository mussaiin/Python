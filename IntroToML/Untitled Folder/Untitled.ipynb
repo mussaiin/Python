{
 "cells": [
  {
   "cell_type": "code",
   "execution_count": 80,
   "metadata": {},
   "outputs": [],
   "source": [
    "import pandas as pd\n",
    "import numpy as np\n",
    "from nltk.corpus import stopwords\n",
    "from nltk.stem import SnowballStemmer\n",
    "from nltk.tokenize import sent_tokenize, word_tokenize"
   ]
  },
  {
   "cell_type": "code",
   "execution_count": 81,
   "metadata": {},
   "outputs": [
    {
     "data": {
      "text/plain": [
       "['i',\n",
       " 'proud',\n",
       " 'nicknam',\n",
       " 'throughout',\n",
       " 'high',\n",
       " 'school',\n",
       " 'today;',\n",
       " \"couldn't\",\n",
       " 'differ',\n",
       " 'mari',\n",
       " 'play',\n",
       " 'piano',\n",
       " 'he',\n",
       " 'turn',\n",
       " 'research',\n",
       " 'paper',\n",
       " 'friday;',\n",
       " 'otherwise,',\n",
       " 'would',\n",
       " 'pass',\n",
       " 'class',\n",
       " 'rock',\n",
       " 'music',\n",
       " 'approach',\n",
       " 'veloc',\n",
       " 'tom',\n",
       " 'got',\n",
       " 'small',\n",
       " 'piec',\n",
       " 'pie',\n",
       " 'pleas',\n",
       " 'wait',\n",
       " 'outsid',\n",
       " 'hous',\n",
       " 'happi',\n",
       " 'take',\n",
       " 'donation;',\n",
       " 'amount',\n",
       " 'great',\n",
       " 'appreci',\n",
       " 'if',\n",
       " 'easter',\n",
       " 'bunni',\n",
       " 'tooth',\n",
       " 'fairi',\n",
       " 'babi',\n",
       " 'teeth',\n",
       " 'leav',\n",
       " 'chocol',\n",
       " 'you?',\n",
       " 'we',\n",
       " 'lot',\n",
       " 'rain',\n",
       " 'june',\n",
       " 'like',\n",
       " 'tuna',\n",
       " 'tomato',\n",
       " 'sauce;',\n",
       " 'tri',\n",
       " 'combin',\n",
       " 'two.',\n",
       " 'it',\n",
       " 'realli',\n",
       " 'bad',\n",
       " 'sound']"
      ]
     },
     "execution_count": 81,
     "metadata": {},
     "output_type": "execute_result"
    }
   ],
   "source": [
    "stopWords = set(stopwords.words('english'))\n",
    "\n",
    "data = [\n",
    "    \"I was very proud of my nickname throughout high school but today; I couldn’t be any different to what my nickname was\",\n",
    "    \"Mary plays the piano\",\n",
    "    \"He turned in the research paper on Friday; otherwise, he would have not passed the class\",\n",
    "    \"Rock music approaches at high velocity\",\n",
    "    \"Tom got a small piece of pie\",\n",
    "    \"Please wait outside of the house\",\n",
    "    \"I am happy to take your donation; any amount will be greatly appreciated\",\n",
    "    \"If the Easter Bunny and the Tooth Fairy had babies would they take your teeth and leave chocolate for you?\",\n",
    "    \"We have a lot of rain in June\",\n",
    "    \"If you like tuna and tomato sauce; try combining the two. It’s really not as bad as it sounds\",\n",
    "]\n",
    "stem = SnowballStemmer(\"english\")\n",
    "\n",
    "newData=[]\n",
    "for sent in data:\n",
    "    newData.append(' '.join([stemmer.stem(word.lower()) for word in sent.split() if word not in stopWords]))\n",
    "    \n",
    "    \n",
    "bag = []\n",
    "for i in newData:\n",
    "    for j in i.split(\" \"):\n",
    "            if j not in bag:\n",
    "                bag.append(j)\n",
    "\n",
    "\n",
    "bag"
   ]
  },
  {
   "cell_type": "code",
   "execution_count": 82,
   "metadata": {},
   "outputs": [],
   "source": [
    "def bagofwords(sent):\n",
    "    bow = np.zeros(len(bag))\n",
    "    for sw in sent.split(\" \"):\n",
    "        for i, word in enumerate(bag):\n",
    "            if word == sw:\n",
    "                bow[i] += 1\n",
    "    return np.array(bow)"
   ]
  },
  {
   "cell_type": "code",
   "execution_count": 83,
   "metadata": {
    "scrolled": true
   },
   "outputs": [
    {
     "name": "stdout",
     "output_type": "stream",
     "text": [
      "[2. 1. 2. 1. 1. 1. 1. 1. 1. 0. 0. 0. 0. 0. 0. 0. 0. 0. 0. 0. 0. 0. 0. 0.\n",
      " 0. 0. 0. 0. 0. 0. 0. 0. 0. 0. 0. 0. 0. 0. 0. 0. 0. 0. 0. 0. 0. 0. 0. 0.\n",
      " 0. 0. 0. 0. 0. 0. 0. 0. 0. 0. 0. 0. 0. 0. 0. 0. 0.]\n",
      "[0. 0. 0. 0. 0. 0. 0. 0. 0. 1. 1. 1. 0. 0. 0. 0. 0. 0. 0. 0. 0. 0. 0. 0.\n",
      " 0. 0. 0. 0. 0. 0. 0. 0. 0. 0. 0. 0. 0. 0. 0. 0. 0. 0. 0. 0. 0. 0. 0. 0.\n",
      " 0. 0. 0. 0. 0. 0. 0. 0. 0. 0. 0. 0. 0. 0. 0. 0. 0.]\n",
      "[0. 0. 0. 0. 0. 0. 0. 0. 0. 0. 0. 0. 1. 1. 1. 1. 1. 1. 1. 1. 1. 0. 0. 0.\n",
      " 0. 0. 0. 0. 0. 0. 0. 0. 0. 0. 0. 0. 0. 0. 0. 0. 0. 0. 0. 0. 0. 0. 0. 0.\n",
      " 0. 0. 0. 0. 0. 0. 0. 0. 0. 0. 0. 0. 0. 0. 0. 0. 0.]\n",
      "[0. 0. 0. 0. 1. 0. 0. 0. 0. 0. 0. 0. 0. 0. 0. 0. 0. 0. 0. 0. 0. 1. 1. 1.\n",
      " 1. 0. 0. 0. 0. 0. 0. 0. 0. 0. 0. 0. 0. 0. 0. 0. 0. 0. 0. 0. 0. 0. 0. 0.\n",
      " 0. 0. 0. 0. 0. 0. 0. 0. 0. 0. 0. 0. 0. 0. 0. 0. 0.]\n",
      "[0. 0. 0. 0. 0. 0. 0. 0. 0. 0. 0. 0. 0. 0. 0. 0. 0. 0. 0. 0. 0. 0. 0. 0.\n",
      " 0. 1. 1. 1. 1. 1. 0. 0. 0. 0. 0. 0. 0. 0. 0. 0. 0. 0. 0. 0. 0. 0. 0. 0.\n",
      " 0. 0. 0. 0. 0. 0. 0. 0. 0. 0. 0. 0. 0. 0. 0. 0. 0.]\n",
      "[0. 0. 0. 0. 0. 0. 0. 0. 0. 0. 0. 0. 0. 0. 0. 0. 0. 0. 0. 0. 0. 0. 0. 0.\n",
      " 0. 0. 0. 0. 0. 0. 1. 1. 1. 1. 0. 0. 0. 0. 0. 0. 0. 0. 0. 0. 0. 0. 0. 0.\n",
      " 0. 0. 0. 0. 0. 0. 0. 0. 0. 0. 0. 0. 0. 0. 0. 0. 0.]\n",
      "[1. 0. 0. 0. 0. 0. 0. 0. 0. 0. 0. 0. 0. 0. 0. 0. 0. 0. 0. 0. 0. 0. 0. 0.\n",
      " 0. 0. 0. 0. 0. 0. 0. 0. 0. 0. 1. 1. 1. 1. 1. 1. 0. 0. 0. 0. 0. 0. 0. 0.\n",
      " 0. 0. 0. 0. 0. 0. 0. 0. 0. 0. 0. 0. 0. 0. 0. 0. 0.]\n",
      "[0. 0. 0. 0. 0. 0. 0. 0. 0. 0. 0. 0. 0. 0. 0. 0. 0. 0. 1. 0. 0. 0. 0. 0.\n",
      " 0. 0. 0. 0. 0. 0. 0. 0. 0. 0. 0. 1. 0. 0. 0. 0. 1. 1. 1. 1. 1. 1. 1. 1.\n",
      " 1. 1. 0. 0. 0. 0. 0. 0. 0. 0. 0. 0. 0. 0. 0. 0. 0.]\n",
      "[0. 0. 0. 0. 0. 0. 0. 0. 0. 0. 0. 0. 0. 0. 0. 0. 0. 0. 0. 0. 0. 0. 0. 0.\n",
      " 0. 0. 0. 0. 0. 0. 0. 0. 0. 0. 0. 0. 0. 0. 0. 0. 0. 0. 0. 0. 0. 0. 0. 0.\n",
      " 0. 0. 1. 1. 1. 1. 0. 0. 0. 0. 0. 0. 0. 0. 0. 0. 0.]\n",
      "[0. 0. 0. 0. 0. 0. 0. 0. 0. 0. 0. 0. 0. 0. 0. 0. 0. 0. 0. 0. 0. 0. 0. 0.\n",
      " 0. 0. 0. 0. 0. 0. 0. 0. 0. 0. 0. 0. 0. 0. 0. 0. 1. 0. 0. 0. 0. 0. 0. 0.\n",
      " 0. 0. 0. 0. 0. 0. 1. 1. 1. 1. 1. 1. 1. 1. 1. 1. 1.]\n"
     ]
    }
   ],
   "source": [
    "for sent in newData:\n",
    "    print(bagofwords(sent))"
   ]
  },
  {
   "cell_type": "code",
   "execution_count": null,
   "metadata": {},
   "outputs": [],
   "source": []
  }
 ],
 "metadata": {
  "kernelspec": {
   "display_name": "Python 3",
   "language": "python",
   "name": "python3"
  },
  "language_info": {
   "codemirror_mode": {
    "name": "ipython",
    "version": 3
   },
   "file_extension": ".py",
   "mimetype": "text/x-python",
   "name": "python",
   "nbconvert_exporter": "python",
   "pygments_lexer": "ipython3",
   "version": "3.6.5"
  }
 },
 "nbformat": 4,
 "nbformat_minor": 2
}
